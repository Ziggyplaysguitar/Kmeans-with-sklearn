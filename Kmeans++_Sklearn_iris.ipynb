{
 "cells": [
  {
   "cell_type": "markdown",
   "metadata": {},
   "source": [
    "# K-means++"
   ]
  },
  {
   "cell_type": "markdown",
   "metadata": {
    "ExecuteTime": {
     "end_time": "2020-03-01T05:25:50.410575Z",
     "start_time": "2020-03-01T05:25:50.407552Z"
    }
   },
   "source": [
    "## 核心算法"
   ]
  },
  {
   "cell_type": "code",
   "execution_count": 1,
   "metadata": {
    "ExecuteTime": {
     "end_time": "2020-03-01T03:06:38.040634Z",
     "start_time": "2020-03-01T03:06:37.684666Z"
    }
   },
   "outputs": [],
   "source": [
    "import numpy as np\n",
    "import random"
   ]
  },
  {
   "cell_type": "code",
   "execution_count": 16,
   "metadata": {
    "ExecuteTime": {
     "end_time": "2020-03-01T04:36:15.851102Z",
     "start_time": "2020-03-01T04:36:15.845545Z"
    }
   },
   "outputs": [],
   "source": [
    "def nearest(point, cluster_centers):\n",
    "    \n",
    "#     得到目前聚类中心的个数\n",
    "    m = cluster_centers.shape[0]\n",
    "    \n",
    "#     随机初始化最短距离\n",
    "    min_dist = distance(point, cluster_centers[0, :])\n",
    "#     选择最短的距离\n",
    "    for i in range(m):\n",
    "        d = distance(point, cluster_centers[i, :])\n",
    "        if min_dist > d:\n",
    "            min_dist = d\n",
    "\n",
    "    return min_dist    "
   ]
  },
  {
   "cell_type": "code",
   "execution_count": 22,
   "metadata": {
    "ExecuteTime": {
     "end_time": "2020-03-01T04:40:46.751356Z",
     "start_time": "2020-03-01T04:40:46.747884Z"
    }
   },
   "outputs": [],
   "source": [
    "def distance(p1, p2):\n",
    "    d = 0\n",
    "    for i in range(len(p1)):\n",
    "        d += (p1[i] - p2[i])**2\n",
    "    return d"
   ]
  },
  {
   "cell_type": "code",
   "execution_count": 49,
   "metadata": {
    "ExecuteTime": {
     "end_time": "2020-03-01T05:20:50.372098Z",
     "start_time": "2020-03-01T05:20:50.365009Z"
    }
   },
   "outputs": [],
   "source": [
    "def get_cent(data, k):\n",
    "    '''\n",
    "    data: m个样本  shape:(m, n)\n",
    "    k: k个聚类中心\n",
    "    return: 初始化后的聚类中心\n",
    "    '''\n",
    "    \n",
    "#    随机初始化一个点作为第一个聚类中心\n",
    "    m, n = data.shape\n",
    "    cluster_centers = np.zeros((k, n))\n",
    "    \n",
    "    index = np.random.randint(0, m)\n",
    "    cluster_centers[0, :] = np.copy(data[index, :])\n",
    "#     初始化距离序列\n",
    "    d = np.zeros((m, ))\n",
    "    \n",
    "    for i in range(1, k):\n",
    "        sum_all = 0\n",
    "        for j in range(m):\n",
    "#             对于k个聚类中心 寻找样本点最短距离\n",
    "            d[j] = nearest(data[j, :], cluster_centers[0:i, :])\n",
    "            sum_all += d[j]\n",
    "#         轮盘法 \n",
    "        sum_all *= random.random() # 生成实数 返回[0, 1)之间\n",
    "#         获得区间内的样本点作为聚类中心点\n",
    "        for j, d_min in enumerate(d):\n",
    "            sum_all -= d_min\n",
    "#             左闭右开区间\n",
    "            if sum_all >= 0:\n",
    "                continue\n",
    "            cluster_centers[i, :] = data[j, :]\n",
    "            break\n",
    "    return cluster_centers"
   ]
  },
  {
   "cell_type": "markdown",
   "metadata": {},
   "source": [
    "## 导入数据库"
   ]
  },
  {
   "cell_type": "code",
   "execution_count": 32,
   "metadata": {
    "ExecuteTime": {
     "end_time": "2020-03-01T05:02:11.115925Z",
     "start_time": "2020-03-01T05:00:40.152224Z"
    }
   },
   "outputs": [],
   "source": [
    "from matplotlib import pyplot as plt\n",
    "from sklearn.cluster import KMeans\n",
    "from sklearn.datasets import load_iris"
   ]
  },
  {
   "cell_type": "code",
   "execution_count": 33,
   "metadata": {
    "ExecuteTime": {
     "end_time": "2020-03-01T05:06:21.879535Z",
     "start_time": "2020-03-01T05:06:21.693928Z"
    }
   },
   "outputs": [
    {
     "data": {
      "image/png": "[encoded data removed]",
      "text/plain": [
       "<Figure size 432x288 with 1 Axes>"
      ]
     },
     "metadata": {
      "needs_background": "light"
     },
     "output_type": "display_data"
    }
   ],
   "source": [
    "iris = load_iris()\n",
    "X  = iris.data[:, 2:]\n",
    "#绘制数据分布图\n",
    "plt.scatter(X[:, 0], X[:, 1], c = \"red\", marker='o', label='see')\n",
    "plt.xlabel('petal length')\n",
    "plt.ylabel('petal width')\n",
    "plt.legend(loc=2)\n",
    "plt.show()"
   ]
  },
  {
   "cell_type": "code",
   "execution_count": 38,
   "metadata": {
    "ExecuteTime": {
     "end_time": "2020-03-01T05:16:20.037922Z",
     "start_time": "2020-03-01T05:16:20.021393Z"
    },
    "collapsed": true
   },
   "outputs": [
    {
     "data": {
      "text/plain": [
       "array([[1.4, 0.2],\n",
       "       [1.4, 0.2],\n",
       "       [1.3, 0.2],\n",
       "       [1.5, 0.2],\n",
       "       [1.4, 0.2],\n",
       "       [1.7, 0.4],\n",
       "       [1.4, 0.3],\n",
       "       [1.5, 0.2],\n",
       "       [1.4, 0.2],\n",
       "       [1.5, 0.1],\n",
       "       [1.5, 0.2],\n",
       "       [1.6, 0.2],\n",
       "       [1.4, 0.1],\n",
       "       [1.1, 0.1],\n",
       "       [1.2, 0.2],\n",
       "       [1.5, 0.4],\n",
       "       [1.3, 0.4],\n",
       "       [1.4, 0.3],\n",
       "       [1.7, 0.3],\n",
       "       [1.5, 0.3],\n",
       "       [1.7, 0.2],\n",
       "       [1.5, 0.4],\n",
       "       [1. , 0.2],\n",
       "       [1.7, 0.5],\n",
       "       [1.9, 0.2],\n",
       "       [1.6, 0.2],\n",
       "       [1.6, 0.4],\n",
       "       [1.5, 0.2],\n",
       "       [1.4, 0.2],\n",
       "       [1.6, 0.2],\n",
       "       [1.6, 0.2],\n",
       "       [1.5, 0.4],\n",
       "       [1.5, 0.1],\n",
       "       [1.4, 0.2],\n",
       "       [1.5, 0.2],\n",
       "       [1.2, 0.2],\n",
       "       [1.3, 0.2],\n",
       "       [1.4, 0.1],\n",
       "       [1.3, 0.2],\n",
       "       [1.5, 0.2],\n",
       "       [1.3, 0.3],\n",
       "       [1.3, 0.3],\n",
       "       [1.3, 0.2],\n",
       "       [1.6, 0.6],\n",
       "       [1.9, 0.4],\n",
       "       [1.4, 0.3],\n",
       "       [1.6, 0.2],\n",
       "       [1.4, 0.2],\n",
       "       [1.5, 0.2],\n",
       "       [1.4, 0.2],\n",
       "       [4.7, 1.4],\n",
       "       [4.5, 1.5],\n",
       "       [4.9, 1.5],\n",
       "       [4. , 1.3],\n",
       "       [4.6, 1.5],\n",
       "       [4.5, 1.3],\n",
       "       [4.7, 1.6],\n",
       "       [3.3, 1. ],\n",
       "       [4.6, 1.3],\n",
       "       [3.9, 1.4],\n",
       "       [3.5, 1. ],\n",
       "       [4.2, 1.5],\n",
       "       [4. , 1. ],\n",
       "       [4.7, 1.4],\n",
       "       [3.6, 1.3],\n",
       "       [4.4, 1.4],\n",
       "       [4.5, 1.5],\n",
       "       [4.1, 1. ],\n",
       "       [4.5, 1.5],\n",
       "       [3.9, 1.1],\n",
       "       [4.8, 1.8],\n",
       "       [4. , 1.3],\n",
       "       [4.9, 1.5],\n",
       "       [4.7, 1.2],\n",
       "       [4.3, 1.3],\n",
       "       [4.4, 1.4],\n",
       "       [4.8, 1.4],\n",
       "       [5. , 1.7],\n",
       "       [4.5, 1.5],\n",
       "       [3.5, 1. ],\n",
       "       [3.8, 1.1],\n",
       "       [3.7, 1. ],\n",
       "       [3.9, 1.2],\n",
       "       [5.1, 1.6],\n",
       "       [4.5, 1.5],\n",
       "       [4.5, 1.6],\n",
       "       [4.7, 1.5],\n",
       "       [4.4, 1.3],\n",
       "       [4.1, 1.3],\n",
       "       [4. , 1.3],\n",
       "       [4.4, 1.2],\n",
       "       [4.6, 1.4],\n",
       "       [4. , 1.2],\n",
       "       [3.3, 1. ],\n",
       "       [4.2, 1.3],\n",
       "       [4.2, 1.2],\n",
       "       [4.2, 1.3],\n",
       "       [4.3, 1.3],\n",
       "       [3. , 1.1],\n",
       "       [4.1, 1.3],\n",
       "       [6. , 2.5],\n",
       "       [5.1, 1.9],\n",
       "       [5.9, 2.1],\n",
       "       [5.6, 1.8],\n",
       "       [5.8, 2.2],\n",
       "       [6.6, 2.1],\n",
       "       [4.5, 1.7],\n",
       "       [6.3, 1.8],\n",
       "       [5.8, 1.8],\n",
       "       [6.1, 2.5],\n",
       "       [5.1, 2. ],\n",
       "       [5.3, 1.9],\n",
       "       [5.5, 2.1],\n",
       "       [5. , 2. ],\n",
       "       [5.1, 2.4],\n",
       "       [5.3, 2.3],\n",
       "       [5.5, 1.8],\n",
       "       [6.7, 2.2],\n",
       "       [6.9, 2.3],\n",
       "       [5. , 1.5],\n",
       "       [5.7, 2.3],\n",
       "       [4.9, 2. ],\n",
       "       [6.7, 2. ],\n",
       "       [4.9, 1.8],\n",
       "       [5.7, 2.1],\n",
       "       [6. , 1.8],\n",
       "       [4.8, 1.8],\n",
       "       [4.9, 1.8],\n",
       "       [5.6, 2.1],\n",
       "       [5.8, 1.6],\n",
       "       [6.1, 1.9],\n",
       "       [6.4, 2. ],\n",
       "       [5.6, 2.2],\n",
       "       [5.1, 1.5],\n",
       "       [5.6, 1.4],\n",
       "       [6.1, 2.3],\n",
       "       [5.6, 2.4],\n",
       "       [5.5, 1.8],\n",
       "       [4.8, 1.8],\n",
       "       [5.4, 2.1],\n",
       "       [5.6, 2.4],\n",
       "       [5.1, 2.3],\n",
       "       [5.1, 1.9],\n",
       "       [5.9, 2.3],\n",
       "       [5.7, 2.5],\n",
       "       [5.2, 2.3],\n",
       "       [5. , 1.9],\n",
       "       [5.2, 2. ],\n",
       "       [5.4, 2.3],\n",
       "       [5.1, 1.8]])"
      ]
     },
     "execution_count": 38,
     "metadata": {},
     "output_type": "execute_result"
    }
   ],
   "source": [
    "X"
   ]
  },
  {
   "cell_type": "markdown",
   "metadata": {},
   "source": [
    "## 进行聚类"
   ]
  },
  {
   "cell_type": "code",
   "execution_count": 50,
   "metadata": {
    "ExecuteTime": {
     "end_time": "2020-03-01T05:20:53.370597Z",
     "start_time": "2020-03-01T05:20:53.335345Z"
    }
   },
   "outputs": [],
   "source": [
    "k = 3\n",
    "# 获取聚类中心点\n",
    "centers = get_cent(X, k)\n",
    "# 构造聚类器\n",
    "estimator = KMeans(n_clusters = k, init = 'k-means++')\n",
    "# 聚类\n",
    "estimator.fit(X)\n",
    "# 获取聚类标签\n",
    "label_pred = estimator.labels_"
   ]
  },
  {
   "cell_type": "code",
   "execution_count": 54,
   "metadata": {
    "ExecuteTime": {
     "end_time": "2020-03-01T05:23:43.945940Z",
     "start_time": "2020-03-01T05:23:43.781152Z"
    }
   },
   "outputs": [
    {
     "data": {
      "image/png": "[encoded data removed]",
      "text/plain": [
       "<Figure size 432x288 with 1 Axes>"
      ]
     },
     "metadata": {
      "needs_background": "light"
     },
     "output_type": "display_data"
    }
   ],
   "source": [
    "# 绘制效果\n",
    "x0 = X[label_pred == 0]\n",
    "x1 = X[label_pred == 1]\n",
    "x2 = X[label_pred == 2]\n",
    "plt.scatter(x0[:, 0], x0[:, 1], c = \"red\", marker = 'o', label = 'label0')\n",
    "plt.scatter(x1[:, 0], x1[:, 1], c = \"green\", marker = '*', label = 'label1')\n",
    "plt.scatter(x2[:, 0], x2[:, 1], c = \"blue\", marker = '+', label = 'label2')\n",
    "# 绘制聚类中心\n",
    "plt.scatter(centers[:, 0], centers[:, 1], c = 'black', marker = 'D', label = 'center' )\n",
    "plt.xlabel('petal length')\n",
    "plt.ylabel('petal width')\n",
    "# 使图例在左上方\n",
    "plt.legend(loc = 2)\n",
    "plt.show()"
   ]
  }
 ],
 "metadata": {
  "kernelspec": {
   "display_name": "Python 3",
   "language": "python",
   "name": "python3"
  },
  "language_info": {
   "codemirror_mode": {
    "name": "ipython",
    "version": 3
   },
   "file_extension": ".py",
   "mimetype": "text/x-python",
   "name": "python",
   "nbconvert_exporter": "python",
   "pygments_lexer": "ipython3",
   "version": "3.7.6"
  },
  "toc": {
   "base_numbering": 1,
   "nav_menu": {},
   "number_sections": false,
   "sideBar": true,
   "skip_h1_title": false,
   "title_cell": "Table of Contents",
   "title_sidebar": "Contents",
   "toc_cell": false,
   "toc_position": {},
   "toc_section_display": true,
   "toc_window_display": true
  }
 },
 "nbformat": 4,
 "nbformat_minor": 2
}
